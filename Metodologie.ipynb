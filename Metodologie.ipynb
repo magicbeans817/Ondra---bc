{
 "cells": [
  {
   "cell_type": "markdown",
   "id": "bf335016",
   "metadata": {},
   "source": [
    "# Metodologie"
   ]
  },
  {
   "cell_type": "code",
   "execution_count": null,
   "id": "23a4498d",
   "metadata": {},
   "outputs": [],
   "source": []
  }
 ],
 "metadata": {
  "kernelspec": {
   "display_name": "R",
   "language": "R",
   "name": "ir"
  },
  "language_info": {
   "codemirror_mode": "r",
   "file_extension": ".r",
   "mimetype": "text/x-r-source",
   "name": "R",
   "pygments_lexer": "r",
   "version": "3.6.1"
  }
 },
 "nbformat": 4,
 "nbformat_minor": 5
}
