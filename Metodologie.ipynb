{
 "cells": [
  {
   "cell_type": "markdown",
   "id": "2d545cdd",
   "metadata": {},
   "source": [
    "# Metodologie"
   ]
  },
  {
   "cell_type": "code",
   "execution_count": 3,
   "id": "5393faba",
   "metadata": {},
   "outputs": [],
   "source": [
    "library(dplyr)\n",
    "library(readxl)"
   ]
  },
  {
   "cell_type": "code",
   "execution_count": 102,
   "id": "b1055788",
   "metadata": {},
   "outputs": [],
   "source": [
    "data_pred <- read_excel(\"pred.xlsx\")\n",
    "data_po <- read_excel(\"po.xlsx\")\n",
    "\n",
    "data_pred <- data_pred %>%\n",
    "    mutate(`dynamometr plantární flexe P` = (`dynamometr plantární flexe (M. triceps surae) 1 P` + \n",
    "           `dynamometr plantární flexe (M. triceps surae) 2 P` + `dynamometr plantární flexe (M. triceps surae) 3 P`)/3) %>%\n",
    "    mutate(`dynamometr plantární flexe L` = (`dynamometr plantární flexe (M. triceps surae) 1 L` + \n",
    "           `dynamometr plantární flexe (M. triceps surae) 2 L` + `dynamometr plantární flexe (M. riceps surae) 3 L`)/3) %>%\n",
    "    mutate(`dynamometr dorsální flexe P` = (`dynamometr dorsální flexe (M. tibialis anterior) 1 P` + \n",
    "           `dynamometr dorsální flexe (M. tibialis anterior) 2 P`+`dynamometr dorsální flexe (M. tibialis anterior) 3 P`)/3) %>%\n",
    "    mutate(`dynamometr dorsální flexe L` = (`dynamometr dorsální flexe (M. tibialis anterior) 1 L` + \n",
    "           `dynamometr dorsální flexe (M. tibialis anterior) 2 L`+`dynamometr dorsální flexe (M. tibialis anterior) 3 L`)/3)\n",
    "\n",
    "data_po <- data_po %>%\n",
    "    mutate(`dynamometr plantární flexe P` = (`dynamometr plantární flexe (M. triceps surae) 1 P` + \n",
    "           `dynamometr plantární flexe (M. triceps surae) 2 P` + `dynamometr plantární flexe (M. triceps surae) 3 P`)/3) %>%\n",
    "    mutate(`dynamometr plantární flexe L` = (`dynamometr plantární flexe (M. triceps surae) 1 L` + \n",
    "           `dynamometr plantární flexe (M. triceps surae) 2 L` + `dynamometr plantární flexe (M. riceps surae) 3 L`)/3) %>%\n",
    "    mutate(`dynamometr dorsální flexe P` = (`dynamometr dorsální flexe (M. tibialis anterior) 1 P` + \n",
    "           `dynamometr dorsální flexe (M. tibialis anterior) 2 P`+`dynamometr dorsální flexe (M. tibialis anterior) 3 P`)/3) %>%\n",
    "    mutate(`dynamometr dorsální flexe L` = (`dynamometr dorsální flexe (M. tibialis anterior) 1 L` + \n",
    "           `dynamometr dorsální flexe (M. tibialis anterior) 2 L`+`dynamometr dorsální flexe (M. tibialis anterior) 3 L`)/3)\n",
    "\n",
    "data_pred <- data_pred[, c((ncol(data_pred)-9):ncol(data_pred))]\n",
    "data_po <- data_po[, c((ncol(data_po)-9):ncol(data_po))]\n",
    "\n",
    "cols <- data_pred %>% colnames()\n",
    "data_pred[cols] <- lapply(data_pred[cols], as.numeric)\n",
    "\n",
    "cols <- data_po %>% colnames()\n",
    "data_po[cols] <- lapply(data_po[cols], as.numeric)\n",
    "\n",
    "data_pred <- as.data.frame(data_pred)\n",
    "data_po <- as.data.frame(data_po)"
   ]
  },
  {
   "cell_type": "markdown",
   "id": "3c13a99d",
   "metadata": {},
   "source": [
    "## T-testy"
   ]
  },
  {
   "cell_type": "code",
   "execution_count": 103,
   "id": "0e8ed185",
   "metadata": {},
   "outputs": [
    {
     "name": "stdout",
     "output_type": "stream",
     "text": [
      "\n",
      "\tPaired t-test\n",
      "\n",
      "data:  data_pred[, i] and data_po[, i]\n",
      "t = -0.59614, df = 19, p-value = 0.5581\n",
      "alternative hypothesis: true difference in means is not equal to 0\n",
      "95 percent confidence interval:\n",
      " -3.834322  2.134322\n",
      "sample estimates:\n",
      "mean of the differences \n",
      "                  -0.85 \n",
      "\n",
      "\n",
      "\tPaired t-test\n",
      "\n",
      "data:  data_pred[, i] and data_po[, i]\n",
      "t = -1.6835, df = 19, p-value = 0.1086\n",
      "alternative hypothesis: true difference in means is not equal to 0\n",
      "95 percent confidence interval:\n",
      " -3.1405845  0.3405845\n",
      "sample estimates:\n",
      "mean of the differences \n",
      "                   -1.4 \n",
      "\n",
      "\n",
      "\tPaired t-test\n",
      "\n",
      "data:  data_pred[, i] and data_po[, i]\n",
      "t = -1.0526, df = 19, p-value = 0.3057\n",
      "alternative hypothesis: true difference in means is not equal to 0\n",
      "95 percent confidence interval:\n",
      " -2.6895694  0.8895694\n",
      "sample estimates:\n",
      "mean of the differences \n",
      "                   -0.9 \n",
      "\n",
      "\n",
      "\tPaired t-test\n",
      "\n",
      "data:  data_pred[, i] and data_po[, i]\n",
      "t = -3.0139, df = 19, p-value = 0.007139\n",
      "alternative hypothesis: true difference in means is not equal to 0\n",
      "95 percent confidence interval:\n",
      " -4.4056024 -0.7943976\n",
      "sample estimates:\n",
      "mean of the differences \n",
      "                   -2.6 \n",
      "\n",
      "\n",
      "\tPaired t-test\n",
      "\n",
      "data:  data_pred[, i] and data_po[, i]\n",
      "t = 1.9131, df = 19, p-value = 0.07093\n",
      "alternative hypothesis: true difference in means is not equal to 0\n",
      "95 percent confidence interval:\n",
      " -0.01490998  0.33190998\n",
      "sample estimates:\n",
      "mean of the differences \n",
      "                 0.1585 \n",
      "\n",
      "\n",
      "\tPaired t-test\n",
      "\n",
      "data:  data_pred[, i] and data_po[, i]\n",
      "t = 0.78731, df = 19, p-value = 0.4408\n",
      "alternative hypothesis: true difference in means is not equal to 0\n",
      "95 percent confidence interval:\n",
      " -0.1218971  0.2688971\n",
      "sample estimates:\n",
      "mean of the differences \n",
      "                 0.0735 \n",
      "\n",
      "\n",
      "\tPaired t-test\n",
      "\n",
      "data:  data_pred[, i] and data_po[, i]\n",
      "t = 2.3256, df = 19, p-value = 0.03127\n",
      "alternative hypothesis: true difference in means is not equal to 0\n",
      "95 percent confidence interval:\n",
      " 0.06676255 1.26857078\n",
      "sample estimates:\n",
      "mean of the differences \n",
      "              0.6676667 \n",
      "\n",
      "\n",
      "\tPaired t-test\n",
      "\n",
      "data:  data_pred[, i] and data_po[, i]\n",
      "t = 1.4928, df = 19, p-value = 0.1519\n",
      "alternative hypothesis: true difference in means is not equal to 0\n",
      "95 percent confidence interval:\n",
      " -0.1661855  0.9928522\n",
      "sample estimates:\n",
      "mean of the differences \n",
      "              0.4133333 \n",
      "\n",
      "\n",
      "\tPaired t-test\n",
      "\n",
      "data:  data_pred[, i] and data_po[, i]\n",
      "t = 1.9093, df = 19, p-value = 0.07144\n",
      "alternative hypothesis: true difference in means is not equal to 0\n",
      "95 percent confidence interval:\n",
      " -0.08741085  1.90407752\n",
      "sample estimates:\n",
      "mean of the differences \n",
      "              0.9083333 \n",
      "\n",
      "\n",
      "\tPaired t-test\n",
      "\n",
      "data:  data_pred[, i] and data_po[, i]\n",
      "t = 3.0268, df = 19, p-value = 0.006938\n",
      "alternative hypothesis: true difference in means is not equal to 0\n",
      "95 percent confidence interval:\n",
      " 0.473020 2.593647\n",
      "sample estimates:\n",
      "mean of the differences \n",
      "               1.533333 \n",
      "\n"
     ]
    }
   ],
   "source": [
    "for (i in 1:ncol(data_po)){\n",
    "    test <- t.test(data_pred[,i], data_po[,i], paired = TRUE, alternative = \"two.sided\")\n",
    "    #print(c(test$p.value,i, colnames(data_pred)[i]))\n",
    "    print(test)\n",
    "}"
   ]
  },
  {
   "cell_type": "markdown",
   "id": "04b783af",
   "metadata": {},
   "source": [
    "### Statisticky signifikantní výsledky"
   ]
  },
  {
   "cell_type": "code",
   "execution_count": 104,
   "id": "92383b71",
   "metadata": {},
   "outputs": [
    {
     "data": {
      "text/plain": [
       "\n",
       "\tPaired t-test\n",
       "\n",
       "data:  data_pred[, 4] and data_po[, 4]\n",
       "t = -3.0139, df = 19, p-value = 0.003569\n",
       "alternative hypothesis: true difference in means is less than 0\n",
       "95 percent confidence interval:\n",
       "      -Inf -1.108318\n",
       "sample estimates:\n",
       "mean of the differences \n",
       "                   -2.6 \n"
      ]
     },
     "metadata": {},
     "output_type": "display_data"
    }
   ],
   "source": [
    "ttest_goniol <- t.test(data_pred[,4], data_po[,4], paired = TRUE, alternative = \"less\")\n",
    "ttest_goniol"
   ]
  },
  {
   "cell_type": "markdown",
   "id": "090a92fb",
   "metadata": {},
   "source": [
    "Při použití jednostranného t-testu jsme vyvrátili nulovou hypotézu, tedy máme dostatek důkazů pro tvrzení, že gonio dorsální flexe LDK je vyšší po terapii."
   ]
  },
  {
   "cell_type": "code",
   "execution_count": 105,
   "id": "20a29124",
   "metadata": {},
   "outputs": [
    {
     "data": {
      "text/plain": [
       "\n",
       "\tPaired t-test\n",
       "\n",
       "data:  data_pred[, 5] and data_po[, 5]\n",
       "t = 1.9131, df = 19, p-value = 0.03547\n",
       "alternative hypothesis: true difference in means is greater than 0\n",
       "95 percent confidence interval:\n",
       " 0.01523892        Inf\n",
       "sample estimates:\n",
       "mean of the differences \n",
       "                 0.1585 \n"
      ]
     },
     "metadata": {},
     "output_type": "display_data"
    }
   ],
   "source": [
    "t.test(data_pred[,5], data_po[,5], paired = TRUE, alternative = \"greater\")"
   ]
  },
  {
   "cell_type": "markdown",
   "id": "f66b8da8",
   "metadata": {},
   "source": [
    "V jednostranném t-testu tloušťky plantární fascie (podélné) PDK jsme vyvrátili nulovou hypotézu, tedy můžeme tvrdit, že tloušťka plantární fascie PDK je po terapii nižší. "
   ]
  },
  {
   "cell_type": "code",
   "execution_count": 106,
   "id": "dd1ba603",
   "metadata": {},
   "outputs": [
    {
     "data": {
      "text/plain": [
       "\n",
       "\tPaired t-test\n",
       "\n",
       "data:  data_pred[, 7] and data_po[, 7]\n",
       "t = 2.3256, df = 19, p-value = 0.01563\n",
       "alternative hypothesis: true difference in means is greater than 0\n",
       "95 percent confidence interval:\n",
       " 0.1712352       Inf\n",
       "sample estimates:\n",
       "mean of the differences \n",
       "              0.6676667 \n"
      ]
     },
     "metadata": {},
     "output_type": "display_data"
    }
   ],
   "source": [
    "t.test(data_pred[,7], data_po[,7], paired = TRUE, alternative = \"greater\")"
   ]
  },
  {
   "cell_type": "markdown",
   "id": "20e3951b",
   "metadata": {},
   "source": [
    "Při použití oboustranného t-testu jsme vyvrátili nulovou hypotézu.\n",
    "\n",
    "Při použití jednostranného t-testu jsme nedokázali vyvrátit nulovou hypotézu, že dynamometr plantární flexe PDK před terapií bude nabývat stejných či vyšších hodnot než po terapii. \n",
    "\n",
    "Vyvrátili jsme nulovou hypotézu u jednostranného t-testu s opačnou nulovou hypotézou, což nás vede k závěru, že dynamometr plantární flexe PDK je po terapii nižší než před ní."
   ]
  },
  {
   "cell_type": "code",
   "execution_count": 107,
   "id": "d7c47215",
   "metadata": {},
   "outputs": [
    {
     "data": {
      "text/plain": [
       "\n",
       "\tPaired t-test\n",
       "\n",
       "data:  data_pred[, 9] and data_po[, 9]\n",
       "t = 1.9093, df = 19, p-value = 0.03572\n",
       "alternative hypothesis: true difference in means is greater than 0\n",
       "95 percent confidence interval:\n",
       " 0.08570832        Inf\n",
       "sample estimates:\n",
       "mean of the differences \n",
       "              0.9083333 \n"
      ]
     },
     "metadata": {},
     "output_type": "display_data"
    }
   ],
   "source": [
    "t.test(data_pred[,9], data_po[,9], paired = TRUE, alternative = \"greater\")"
   ]
  },
  {
   "cell_type": "markdown",
   "id": "1ff592e5",
   "metadata": {},
   "source": [
    "Při použití oboustranného t-testu jsme vyvrátili nulovou hypotézu.\n",
    "\n",
    "Při použití jednostranného t-testu jsme nedokázali vyvrátit nulovou hypotézu, že dynamometr dorsální flexe PDK před terapií bude nabývat stejných či vyšších hodnot než po terapii. \n",
    "\n",
    "Vyvrátili jsme nulovou hypotézu u jednostranného t-testu s opačnou nulovou hypotézou, což nás vede k závěru, že dynamometr dorsální flexe PDK je po terapii nižší než před ní."
   ]
  },
  {
   "cell_type": "code",
   "execution_count": 108,
   "id": "46039b69",
   "metadata": {},
   "outputs": [
    {
     "data": {
      "text/plain": [
       "\n",
       "\tPaired t-test\n",
       "\n",
       "data:  data_pred[, 10] and data_po[, 10]\n",
       "t = 3.0268, df = 19, p-value = 0.003469\n",
       "alternative hypothesis: true difference in means is greater than 0\n",
       "95 percent confidence interval:\n",
       " 0.6573651       Inf\n",
       "sample estimates:\n",
       "mean of the differences \n",
       "               1.533333 \n"
      ]
     },
     "metadata": {},
     "output_type": "display_data"
    }
   ],
   "source": [
    "t.test(data_pred[,10], data_po[,10], paired = TRUE, alternative = \"greater\")"
   ]
  },
  {
   "cell_type": "markdown",
   "id": "cd98d2df",
   "metadata": {},
   "source": [
    "Při použití oboustranného t-testu jsme vyvrátili nulovou hypotézu.\n",
    "\n",
    "Při použití jednostranného t-testu jsme nedokázali vyvrátit nulovou hypotézu, že dynamometr dorsální flexe LDK před terapií bude nabývat stejných či vyšších hodnot než po terapii. \n",
    "\n",
    "Vyvrátili jsme nulovou hypotézu u jednostranného t-testu s opačnou nulovou hypotézou, což nás vede k závěru, že dynamometr dorsální flexe LDK je po terapii nižší než před ní."
   ]
  },
  {
   "cell_type": "markdown",
   "id": "b36bf386",
   "metadata": {},
   "source": [
    "### U všeho ostatního:\n",
    "\n",
    "Nepodařilo se nám v oboustranném a ani jednostranném t-testu vyvrátit nulovou hypotézu, tedy nemáme dostatek důkazů pro tvrzení, že je v blablabla rozdíl před a po terapii. "
   ]
  },
  {
   "cell_type": "markdown",
   "id": "1fb5dadb",
   "metadata": {},
   "source": [
    "## Grafy"
   ]
  },
  {
   "cell_type": "code",
   "execution_count": 133,
   "id": "e9d927fe",
   "metadata": {},
   "outputs": [
    {
     "data": {
      "image/png": "[encoded data removed]",
      "text/plain": [
       "Plot with title \"Gonio plantární flexe\""
      ]
     },
     "metadata": {},
     "output_type": "display_data"
    }
   ],
   "source": [
    "options(repr.plot.width=8, repr.plot.height=5)\n",
    "tpc <- cbind(data_pred[,c(1,2)], data_po[, c(1,2)])\n",
    "barvicky <- c(\"blue\",\"yellow\")\n",
    "popis <- c(\"předtím - PDK\",\"předtím - LDK\",\n",
    "           \"potom - PDK\",\"potom - LDK\")\n",
    "boxplot(tpc, xlab = \"\", ylab = \"\", col = barvicky, names = popis, par(cex.axis=0.7))\n",
    "title(\"Gonio plantární flexe\")\n",
    "legend(\"bottomright\", c(\"Pravá DK\", \" Levá DK\"),\n",
    "       col=c(\"blue\", \"yellow\"), lwd=3)"
   ]
  },
  {
   "cell_type": "code",
   "execution_count": 136,
   "id": "a217b988",
   "metadata": {
    "scrolled": true
   },
   "outputs": [
    {
     "data": {
      "image/png": "[encoded data removed]",
      "text/plain": [
       "Plot with title \"Gonio dorsání flexe\""
      ]
     },
     "metadata": {},
     "output_type": "display_data"
    }
   ],
   "source": [
    "options(repr.plot.width=8, repr.plot.height=5)\n",
    "tpc <- cbind(data_pred[,c(3,4)], data_po[, c(3,4)])\n",
    "barvicky <- c(\"green\",\"yellow\")\n",
    "popis <- c(\"předtím - PDK\",\"předtím - LDK\",\n",
    "           \"potom - PDK\",\"potom - LDK\")\n",
    "boxplot(tpc, xlab = \"\", ylab = \"\", col = barvicky, names = popis, par(cex.axis=0.7))\n",
    "title(\"Gonio dorsání flexe\")\n",
    "legend(\"bottomright\", c(\"Pravá DK\", \" Levá DK\"),\n",
    "       col=c(\"green\", \"yellow\"), lwd=3)"
   ]
  },
  {
   "cell_type": "code",
   "execution_count": 134,
   "id": "e91629f3",
   "metadata": {},
   "outputs": [
    {
     "data": {
      "image/png": "[encoded data removed]",
      "text/plain": [
       "Plot with title \"Tloušťka plantární fascie\""
      ]
     },
     "metadata": {},
     "output_type": "display_data"
    }
   ],
   "source": [
    "options(repr.plot.width=8, repr.plot.height=5)\n",
    "tpc <- cbind(data_pred[,c(5,6)], data_po[, c(5,6)])\n",
    "barvicky <- c(\"red\",\"blue\")\n",
    "popis <- c(\"předtím - PDK\",\"předtím - LDK\",\n",
    "           \"potom - PDK\",\"potom - LDK\")\n",
    "boxplot(tpc, xlab = \"\", ylab = \"\", col = barvicky, names = popis, par(cex.axis=0.7))\n",
    "title(\"Tloušťka plantární fascie\")\n",
    "legend(\"bottomright\", c(\"Pravá DK\", \" Levá DK\"),\n",
    "       col=c(\"red\", \"blue\"), lwd=3)"
   ]
  },
  {
   "cell_type": "code",
   "execution_count": 135,
   "id": "0c7e5a74",
   "metadata": {},
   "outputs": [
    {
     "data": {
      "image/png": "[encoded data removed]",
      "text/plain": [
       "Plot with title \"Gonio dorsání flexe\""
      ]
     },
     "metadata": {},
     "output_type": "display_data"
    }
   ],
   "source": []
  },
  {
   "cell_type": "code",
   "execution_count": null,
   "id": "f54c9d80",
   "metadata": {},
   "outputs": [],
   "source": []
  },
  {
   "cell_type": "code",
   "execution_count": 80,
   "id": "9d4128b4",
   "metadata": {},
   "outputs": [
    {
     "name": "stdout",
     "output_type": "stream",
     "text": [
      "Observations: 20\n",
      "Variables: 10\n",
      "$ `gonio plantární flexe P`               <dbl> 54, 55, 50, 50, 40, 50, 52,...\n",
      "$ `gonio plantární flexe L`               <dbl> 55, 60, 50, 45, 46, 53, 55,...\n",
      "$ `gonio dorsání flexe P`                 <dbl> 32, 30, 27, 30, 31, 30, 36,...\n",
      "$ `gonio dorsání flexe L`                 <dbl> 29, 25, 28, 30, 27, 25, 33,...\n",
      "$ `tloušťka plantární fascie (podélné) P` <dbl> 3.34, 2.92, 3.08, 2.67, 3.3...\n",
      "$ `tloušťka plantární fascie (podélné) L` <dbl> 3.76, 2.58, 3.42, 3.17, 2.7...\n",
      "$ `dynamometr plantární flexe P`          <dbl> 8.500000, 7.200000, 8.80000...\n",
      "$ `dynamometr plantární flexe L`          <dbl> 8.500000, 8.233333, 10.1000...\n",
      "$ `dynamometr dorsální flexe P`           <dbl> 9.833333, 8.133333, 9.53333...\n",
      "$ `dynamometr dorsální flexe L`           <dbl> 11.566667, 9.833333, 12.666...\n"
     ]
    }
   ],
   "source": [
    "data_pred %>% glimpse()"
   ]
  },
  {
   "cell_type": "code",
   "execution_count": null,
   "id": "d1455808",
   "metadata": {},
   "outputs": [],
   "source": []
  }
 ],
 "metadata": {
  "kernelspec": {
   "display_name": "R",
   "language": "R",
   "name": "ir"
  },
  "language_info": {
   "codemirror_mode": "r",
   "file_extension": ".r",
   "mimetype": "text/x-r-source",
   "name": "R",
   "pygments_lexer": "r",
   "version": "3.6.1"
  }
 },
 "nbformat": 4,
 "nbformat_minor": 5
}
