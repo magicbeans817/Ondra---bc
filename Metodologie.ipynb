{
 "cells": [
  {
   "cell_type": "markdown",
   "id": "c023168a",
   "metadata": {},
   "source": [
    "# Metodologie"
   ]
  },
  {
   "cell_type": "code",
   "execution_count": 150,
   "id": "770e918d",
   "metadata": {},
   "outputs": [
    {
     "name": "stderr",
     "output_type": "stream",
     "text": [
      "\n",
      "Attaching package: 'MASS'\n",
      "\n",
      "The following object is masked from 'package:dplyr':\n",
      "\n",
      "    select\n",
      "\n"
     ]
    }
   ],
   "source": [
    "library(dplyr)\n",
    "library(readxl)\n",
    "library(MASS)"
   ]
  },
  {
   "cell_type": "code",
   "execution_count": 102,
   "id": "f22d5b5c",
   "metadata": {},
   "outputs": [],
   "source": [
    "data_pred <- read_excel(\"pred.xlsx\")\n",
    "data_po <- read_excel(\"po.xlsx\")\n",
    "\n",
    "data_pred <- data_pred %>%\n",
    "    mutate(`dynamometr plantární flexe P` = (`dynamometr plantární flexe (M. triceps surae) 1 P` + \n",
    "           `dynamometr plantární flexe (M. triceps surae) 2 P` + `dynamometr plantární flexe (M. triceps surae) 3 P`)/3) %>%\n",
    "    mutate(`dynamometr plantární flexe L` = (`dynamometr plantární flexe (M. triceps surae) 1 L` + \n",
    "           `dynamometr plantární flexe (M. triceps surae) 2 L` + `dynamometr plantární flexe (M. riceps surae) 3 L`)/3) %>%\n",
    "    mutate(`dynamometr dorsální flexe P` = (`dynamometr dorsální flexe (M. tibialis anterior) 1 P` + \n",
    "           `dynamometr dorsální flexe (M. tibialis anterior) 2 P`+`dynamometr dorsální flexe (M. tibialis anterior) 3 P`)/3) %>%\n",
    "    mutate(`dynamometr dorsální flexe L` = (`dynamometr dorsální flexe (M. tibialis anterior) 1 L` + \n",
    "           `dynamometr dorsální flexe (M. tibialis anterior) 2 L`+`dynamometr dorsální flexe (M. tibialis anterior) 3 L`)/3)\n",
    "\n",
    "data_po <- data_po %>%\n",
    "    mutate(`dynamometr plantární flexe P` = (`dynamometr plantární flexe (M. triceps surae) 1 P` + \n",
    "           `dynamometr plantární flexe (M. triceps surae) 2 P` + `dynamometr plantární flexe (M. triceps surae) 3 P`)/3) %>%\n",
    "    mutate(`dynamometr plantární flexe L` = (`dynamometr plantární flexe (M. triceps surae) 1 L` + \n",
    "           `dynamometr plantární flexe (M. triceps surae) 2 L` + `dynamometr plantární flexe (M. riceps surae) 3 L`)/3) %>%\n",
    "    mutate(`dynamometr dorsální flexe P` = (`dynamometr dorsální flexe (M. tibialis anterior) 1 P` + \n",
    "           `dynamometr dorsální flexe (M. tibialis anterior) 2 P`+`dynamometr dorsální flexe (M. tibialis anterior) 3 P`)/3) %>%\n",
    "    mutate(`dynamometr dorsální flexe L` = (`dynamometr dorsální flexe (M. tibialis anterior) 1 L` + \n",
    "           `dynamometr dorsální flexe (M. tibialis anterior) 2 L`+`dynamometr dorsální flexe (M. tibialis anterior) 3 L`)/3)\n",
    "\n",
    "data_pred <- data_pred[, c((ncol(data_pred)-9):ncol(data_pred))]\n",
    "data_po <- data_po[, c((ncol(data_po)-9):ncol(data_po))]\n",
    "\n",
    "cols <- data_pred %>% colnames()\n",
    "data_pred[cols] <- lapply(data_pred[cols], as.numeric)\n",
    "\n",
    "cols <- data_po %>% colnames()\n",
    "data_po[cols] <- lapply(data_po[cols], as.numeric)\n",
    "\n",
    "data_pred <- as.data.frame(data_pred)\n",
    "data_po <- as.data.frame(data_po)"
   ]
  },
  {
   "cell_type": "markdown",
   "id": "23f386bf",
   "metadata": {},
   "source": [
    "# T-testy"
   ]
  },
  {
   "cell_type": "code",
   "execution_count": 103,
   "id": "fb5f0e91",
   "metadata": {},
   "outputs": [
    {
     "name": "stdout",
     "output_type": "stream",
     "text": [
      "\n",
      "\tPaired t-test\n",
      "\n",
      "data:  data_pred[, i] and data_po[, i]\n",
      "t = -0.59614, df = 19, p-value = 0.5581\n",
      "alternative hypothesis: true difference in means is not equal to 0\n",
      "95 percent confidence interval:\n",
      " -3.834322  2.134322\n",
      "sample estimates:\n",
      "mean of the differences \n",
      "                  -0.85 \n",
      "\n",
      "\n",
      "\tPaired t-test\n",
      "\n",
      "data:  data_pred[, i] and data_po[, i]\n",
      "t = -1.6835, df = 19, p-value = 0.1086\n",
      "alternative hypothesis: true difference in means is not equal to 0\n",
      "95 percent confidence interval:\n",
      " -3.1405845  0.3405845\n",
      "sample estimates:\n",
      "mean of the differences \n",
      "                   -1.4 \n",
      "\n",
      "\n",
      "\tPaired t-test\n",
      "\n",
      "data:  data_pred[, i] and data_po[, i]\n",
      "t = -1.0526, df = 19, p-value = 0.3057\n",
      "alternative hypothesis: true difference in means is not equal to 0\n",
      "95 percent confidence interval:\n",
      " -2.6895694  0.8895694\n",
      "sample estimates:\n",
      "mean of the differences \n",
      "                   -0.9 \n",
      "\n",
      "\n",
      "\tPaired t-test\n",
      "\n",
      "data:  data_pred[, i] and data_po[, i]\n",
      "t = -3.0139, df = 19, p-value = 0.007139\n",
      "alternative hypothesis: true difference in means is not equal to 0\n",
      "95 percent confidence interval:\n",
      " -4.4056024 -0.7943976\n",
      "sample estimates:\n",
      "mean of the differences \n",
      "                   -2.6 \n",
      "\n",
      "\n",
      "\tPaired t-test\n",
      "\n",
      "data:  data_pred[, i] and data_po[, i]\n",
      "t = 1.9131, df = 19, p-value = 0.07093\n",
      "alternative hypothesis: true difference in means is not equal to 0\n",
      "95 percent confidence interval:\n",
      " -0.01490998  0.33190998\n",
      "sample estimates:\n",
      "mean of the differences \n",
      "                 0.1585 \n",
      "\n",
      "\n",
      "\tPaired t-test\n",
      "\n",
      "data:  data_pred[, i] and data_po[, i]\n",
      "t = 0.78731, df = 19, p-value = 0.4408\n",
      "alternative hypothesis: true difference in means is not equal to 0\n",
      "95 percent confidence interval:\n",
      " -0.1218971  0.2688971\n",
      "sample estimates:\n",
      "mean of the differences \n",
      "                 0.0735 \n",
      "\n",
      "\n",
      "\tPaired t-test\n",
      "\n",
      "data:  data_pred[, i] and data_po[, i]\n",
      "t = 2.3256, df = 19, p-value = 0.03127\n",
      "alternative hypothesis: true difference in means is not equal to 0\n",
      "95 percent confidence interval:\n",
      " 0.06676255 1.26857078\n",
      "sample estimates:\n",
      "mean of the differences \n",
      "              0.6676667 \n",
      "\n",
      "\n",
      "\tPaired t-test\n",
      "\n",
      "data:  data_pred[, i] and data_po[, i]\n",
      "t = 1.4928, df = 19, p-value = 0.1519\n",
      "alternative hypothesis: true difference in means is not equal to 0\n",
      "95 percent confidence interval:\n",
      " -0.1661855  0.9928522\n",
      "sample estimates:\n",
      "mean of the differences \n",
      "              0.4133333 \n",
      "\n",
      "\n",
      "\tPaired t-test\n",
      "\n",
      "data:  data_pred[, i] and data_po[, i]\n",
      "t = 1.9093, df = 19, p-value = 0.07144\n",
      "alternative hypothesis: true difference in means is not equal to 0\n",
      "95 percent confidence interval:\n",
      " -0.08741085  1.90407752\n",
      "sample estimates:\n",
      "mean of the differences \n",
      "              0.9083333 \n",
      "\n",
      "\n",
      "\tPaired t-test\n",
      "\n",
      "data:  data_pred[, i] and data_po[, i]\n",
      "t = 3.0268, df = 19, p-value = 0.006938\n",
      "alternative hypothesis: true difference in means is not equal to 0\n",
      "95 percent confidence interval:\n",
      " 0.473020 2.593647\n",
      "sample estimates:\n",
      "mean of the differences \n",
      "               1.533333 \n",
      "\n"
     ]
    }
   ],
   "source": [
    "for (i in 1:ncol(data_po)){\n",
    "    test <- t.test(data_pred[,i], data_po[,i], paired = TRUE, alternative = \"two.sided\")\n",
    "    #print(c(test$p.value,i, colnames(data_pred)[i]))\n",
    "    print(test)\n",
    "}"
   ]
  },
  {
   "cell_type": "markdown",
   "id": "a071ebdb",
   "metadata": {},
   "source": [
    "## Statisticky signifikantní výsledky"
   ]
  },
  {
   "cell_type": "code",
   "execution_count": 104,
   "id": "096c0741",
   "metadata": {},
   "outputs": [
    {
     "data": {
      "text/plain": [
       "\n",
       "\tPaired t-test\n",
       "\n",
       "data:  data_pred[, 4] and data_po[, 4]\n",
       "t = -3.0139, df = 19, p-value = 0.003569\n",
       "alternative hypothesis: true difference in means is less than 0\n",
       "95 percent confidence interval:\n",
       "      -Inf -1.108318\n",
       "sample estimates:\n",
       "mean of the differences \n",
       "                   -2.6 \n"
      ]
     },
     "metadata": {},
     "output_type": "display_data"
    }
   ],
   "source": [
    "ttest_goniol <- t.test(data_pred[,4], data_po[,4], paired = TRUE, alternative = \"less\")\n",
    "ttest_goniol"
   ]
  },
  {
   "cell_type": "markdown",
   "id": "e1901c4b",
   "metadata": {},
   "source": [
    "Při použití jednostranného t-testu jsme vyvrátili nulovou hypotézu, tedy máme dostatek důkazů pro tvrzení, že gonio dorsální flexe LDK je vyšší po terapii."
   ]
  },
  {
   "cell_type": "code",
   "execution_count": 105,
   "id": "1f0df0da",
   "metadata": {},
   "outputs": [
    {
     "data": {
      "text/plain": [
       "\n",
       "\tPaired t-test\n",
       "\n",
       "data:  data_pred[, 5] and data_po[, 5]\n",
       "t = 1.9131, df = 19, p-value = 0.03547\n",
       "alternative hypothesis: true difference in means is greater than 0\n",
       "95 percent confidence interval:\n",
       " 0.01523892        Inf\n",
       "sample estimates:\n",
       "mean of the differences \n",
       "                 0.1585 \n"
      ]
     },
     "metadata": {},
     "output_type": "display_data"
    }
   ],
   "source": [
    "t.test(data_pred[,5], data_po[,5], paired = TRUE, alternative = \"greater\")"
   ]
  },
  {
   "cell_type": "markdown",
   "id": "f5b3e134",
   "metadata": {},
   "source": [
    "V jednostranném t-testu tloušťky plantární fascie (podélné) PDK jsme vyvrátili nulovou hypotézu, tedy můžeme tvrdit, že tloušťka plantární fascie PDK je po terapii nižší. "
   ]
  },
  {
   "cell_type": "code",
   "execution_count": 106,
   "id": "f8edff28",
   "metadata": {},
   "outputs": [
    {
     "data": {
      "text/plain": [
       "\n",
       "\tPaired t-test\n",
       "\n",
       "data:  data_pred[, 7] and data_po[, 7]\n",
       "t = 2.3256, df = 19, p-value = 0.01563\n",
       "alternative hypothesis: true difference in means is greater than 0\n",
       "95 percent confidence interval:\n",
       " 0.1712352       Inf\n",
       "sample estimates:\n",
       "mean of the differences \n",
       "              0.6676667 \n"
      ]
     },
     "metadata": {},
     "output_type": "display_data"
    }
   ],
   "source": [
    "t.test(data_pred[,7], data_po[,7], paired = TRUE, alternative = \"greater\")"
   ]
  },
  {
   "cell_type": "markdown",
   "id": "e90a4aa5",
   "metadata": {},
   "source": [
    "Při použití oboustranného t-testu jsme vyvrátili nulovou hypotézu.\n",
    "\n",
    "Při použití jednostranného t-testu jsme nedokázali vyvrátit nulovou hypotézu, že dynamometr plantární flexe PDK před terapií bude nabývat stejných či vyšších hodnot než po terapii. \n",
    "\n",
    "Vyvrátili jsme nulovou hypotézu u jednostranného t-testu s opačnou nulovou hypotézou, což nás vede k závěru, že dynamometr plantární flexe PDK je po terapii nižší než před ní."
   ]
  },
  {
   "cell_type": "code",
   "execution_count": 107,
   "id": "e1c75d4d",
   "metadata": {},
   "outputs": [
    {
     "data": {
      "text/plain": [
       "\n",
       "\tPaired t-test\n",
       "\n",
       "data:  data_pred[, 9] and data_po[, 9]\n",
       "t = 1.9093, df = 19, p-value = 0.03572\n",
       "alternative hypothesis: true difference in means is greater than 0\n",
       "95 percent confidence interval:\n",
       " 0.08570832        Inf\n",
       "sample estimates:\n",
       "mean of the differences \n",
       "              0.9083333 \n"
      ]
     },
     "metadata": {},
     "output_type": "display_data"
    }
   ],
   "source": [
    "t.test(data_pred[,9], data_po[,9], paired = TRUE, alternative = \"greater\")"
   ]
  },
  {
   "cell_type": "markdown",
   "id": "7942e45c",
   "metadata": {},
   "source": [
    "Při použití oboustranného t-testu jsme vyvrátili nulovou hypotézu.\n",
    "\n",
    "Při použití jednostranného t-testu jsme nedokázali vyvrátit nulovou hypotézu, že dynamometr dorsální flexe PDK před terapií bude nabývat stejných či vyšších hodnot než po terapii. \n",
    "\n",
    "Vyvrátili jsme nulovou hypotézu u jednostranného t-testu s opačnou nulovou hypotézou, což nás vede k závěru, že dynamometr dorsální flexe PDK je po terapii nižší než před ní."
   ]
  },
  {
   "cell_type": "code",
   "execution_count": 108,
   "id": "1fc3f287",
   "metadata": {},
   "outputs": [
    {
     "data": {
      "text/plain": [
       "\n",
       "\tPaired t-test\n",
       "\n",
       "data:  data_pred[, 10] and data_po[, 10]\n",
       "t = 3.0268, df = 19, p-value = 0.003469\n",
       "alternative hypothesis: true difference in means is greater than 0\n",
       "95 percent confidence interval:\n",
       " 0.6573651       Inf\n",
       "sample estimates:\n",
       "mean of the differences \n",
       "               1.533333 \n"
      ]
     },
     "metadata": {},
     "output_type": "display_data"
    }
   ],
   "source": [
    "t.test(data_pred[,10], data_po[,10], paired = TRUE, alternative = \"greater\")"
   ]
  },
  {
   "cell_type": "markdown",
   "id": "6193d09e",
   "metadata": {},
   "source": [
    "Při použití oboustranného t-testu jsme vyvrátili nulovou hypotézu.\n",
    "\n",
    "Při použití jednostranného t-testu jsme nedokázali vyvrátit nulovou hypotézu, že dynamometr dorsální flexe LDK před terapií bude nabývat stejných či vyšších hodnot než po terapii. \n",
    "\n",
    "Vyvrátili jsme nulovou hypotézu u jednostranného t-testu s opačnou nulovou hypotézou, což nás vede k závěru, že dynamometr dorsální flexe LDK je po terapii nižší než před ní."
   ]
  },
  {
   "cell_type": "markdown",
   "id": "ffd326df",
   "metadata": {},
   "source": [
    "## U všeho ostatního:\n",
    "\n",
    "Nepodařilo se nám v oboustranném a ani jednostranném t-testu vyvrátit nulovou hypotézu, tedy nemáme dostatek důkazů pro tvrzení, že je v blablabla rozdíl před a po terapii. "
   ]
  },
  {
   "cell_type": "markdown",
   "id": "a8407f16",
   "metadata": {},
   "source": [
    "# Grafy\n",
    "\n",
    "## Boxploty"
   ]
  },
  {
   "cell_type": "code",
   "execution_count": 144,
   "id": "074df8eb",
   "metadata": {},
   "outputs": [
    {
     "data": {
      "image/png": "[encoded data removed]",
      "text/plain": [
       "Plot with title \"Goniometrie plantární flexe\""
      ]
     },
     "metadata": {},
     "output_type": "display_data"
    }
   ],
   "source": [
    "options(repr.plot.width=8, repr.plot.height=5)\n",
    "tpc <- cbind(data_pred[,c(1,2)], data_po[, c(1,2)])\n",
    "barvicky <- c(\"blue\",\"yellow\")\n",
    "popis <- c(\"předtím - PDK\",\"předtím - LDK\",\n",
    "           \"potom - PDK\",\"potom - LDK\")\n",
    "boxplot(tpc, xlab = \"\", ylab = \"\", col = barvicky, names = popis, par(cex.axis=0.7))\n",
    "title(\"Goniometrie plantární flexe\")\n",
    "legend(\"bottomright\", c(\"Pravá DK\", \" Levá DK\"),\n",
    "       col=c(\"blue\", \"yellow\"), lwd=3)"
   ]
  },
  {
   "cell_type": "code",
   "execution_count": 143,
   "id": "b9b0329c",
   "metadata": {
    "scrolled": true
   },
   "outputs": [
    {
     "data": {
      "image/png": "[encoded data removed]",
      "text/plain": [
       "Plot with title \"Goniometrie dorzální flexe\""
      ]
     },
     "metadata": {},
     "output_type": "display_data"
    }
   ],
   "source": [
    "options(repr.plot.width=8, repr.plot.height=5)\n",
    "tpc <- cbind(data_pred[,c(3,4)], data_po[, c(3,4)])\n",
    "barvicky <- c(\"green\",\"yellow\")\n",
    "popis <- c(\"předtím - PDK\",\"předtím - LDK\",\n",
    "           \"potom - PDK\",\"potom - LDK\")\n",
    "boxplot(tpc, xlab = \"\", ylab = \"\", col = barvicky, names = popis, par(cex.axis=0.7))\n",
    "title(\"Goniometrie dorzální flexe\")\n",
    "legend(\"bottomright\", c(\"Pravá DK\", \" Levá DK\"),\n",
    "       col=c(\"green\", \"yellow\"), lwd=3)"
   ]
  },
  {
   "cell_type": "code",
   "execution_count": 134,
   "id": "f323dc1b",
   "metadata": {},
   "outputs": [
    {
     "data": {
      "image/png": "[encoded data removed]",
      "text/plain": [
       "Plot with title \"Tloušťka plantární fascie\""
      ]
     },
     "metadata": {},
     "output_type": "display_data"
    }
   ],
   "source": [
    "options(repr.plot.width=8, repr.plot.height=5)\n",
    "tpc <- cbind(data_pred[,c(5,6)], data_po[, c(5,6)])\n",
    "barvicky <- c(\"red\",\"blue\")\n",
    "popis <- c(\"předtím - PDK\",\"předtím - LDK\",\n",
    "           \"potom - PDK\",\"potom - LDK\")\n",
    "boxplot(tpc, xlab = \"\", ylab = \"\", col = barvicky, names = popis, par(cex.axis=0.7))\n",
    "title(\"Tloušťka plantární fascie\")\n",
    "legend(\"bottomright\", c(\"Pravá DK\", \" Levá DK\"),\n",
    "       col=c(\"red\", \"blue\"), lwd=3)"
   ]
  },
  {
   "cell_type": "code",
   "execution_count": 137,
   "id": "933d2826",
   "metadata": {},
   "outputs": [
    {
     "data": {
      "image/png": "[encoded data removed]",
      "text/plain": [
       "Plot with title \"Dynamometr plantární flexe\""
      ]
     },
     "metadata": {},
     "output_type": "display_data"
    }
   ],
   "source": [
    "options(repr.plot.width=8, repr.plot.height=5)\n",
    "tpc <- cbind(data_pred[,c(7,8)], data_po[, c(7,8)])\n",
    "barvicky <- c(\"purple\",\"green\")\n",
    "popis <- c(\"předtím - PDK\",\"předtím - LDK\",\n",
    "           \"potom - PDK\",\"potom - LDK\")\n",
    "boxplot(tpc, xlab = \"\", ylab = \"\", col = barvicky, names = popis, par(cex.axis=0.7))\n",
    "title(\"Dynamometr plantární flexe\")\n",
    "legend(\"bottomright\", c(\"Pravá DK\", \" Levá DK\"),\n",
    "       col=barvicky, lwd=3)"
   ]
  },
  {
   "cell_type": "code",
   "execution_count": 146,
   "id": "93434c01",
   "metadata": {},
   "outputs": [
    {
     "data": {
      "image/png": "[encoded data removed]",
      "text/plain": [
       "Plot with title \"Dynamometr dorzální flexe\""
      ]
     },
     "metadata": {},
     "output_type": "display_data"
    }
   ],
   "source": [
    "options(repr.plot.width=8, repr.plot.height=5)\n",
    "tpc <- cbind(data_pred[,c(7,8)], data_po[, c(7,8)])\n",
    "barvicky <- c(\"brown\",\"grey\")\n",
    "popis <- c(\"předtím - PDK\",\"předtím - LDK\",\n",
    "           \"potom - PDK\",\"potom - LDK\")\n",
    "boxplot(tpc, xlab = \"\", ylab = \"\", col = barvicky, names = popis, par(cex.axis=0.7))\n",
    "title(\"Dynamometr dorzální flexe\")\n",
    "legend(\"bottomright\", c(\"Pravá DK\", \" Levá DK\"),\n",
    "       col=barvicky, lwd=3)"
   ]
  },
  {
   "cell_type": "markdown",
   "id": "162f6091",
   "metadata": {},
   "source": [
    "## Histogramy"
   ]
  },
  {
   "cell_type": "code",
   "execution_count": 157,
   "id": "daf2fa76",
   "metadata": {},
   "outputs": [
    {
     "data": {
      "text/html": [
       "<table>\n",
       "<thead><tr><th scope=col>gonio plantární flexe P</th><th scope=col>gonio plantární flexe L</th><th scope=col>gonio dorsání flexe P</th><th scope=col>gonio dorsání flexe L</th><th scope=col>tloušťka plantární fascie (podélné) P</th><th scope=col>tloušťka plantární fascie (podélné) L</th><th scope=col>dynamometr plantární flexe P</th><th scope=col>dynamometr plantární flexe L</th><th scope=col>dynamometr dorsální flexe P</th><th scope=col>dynamometr dorsální flexe L</th></tr></thead>\n",
       "<tbody>\n",
       "\t<tr><td>  2       </td><td>  4       </td><td> 3        </td><td>-1        </td><td> 0.74     </td><td> 1.01     </td><td>0.46666667</td><td> 2.4333333</td><td> 0.9000000</td><td> 2.333333 </td></tr>\n",
       "\t<tr><td>  5       </td><td>  2       </td><td>-3        </td><td>-8        </td><td>-0.09     </td><td>-0.40     </td><td>0.50000000</td><td>-0.5000000</td><td>-2.1000000</td><td> 0.200000 </td></tr>\n",
       "\t<tr><td>  0       </td><td> -4       </td><td>-3        </td><td> 1        </td><td>-0.25     </td><td>-0.34     </td><td>1.93333333</td><td> 2.8666667</td><td> 0.6333333</td><td> 3.866667 </td></tr>\n",
       "\t<tr><td>  0       </td><td> -5       </td><td> 0        </td><td> 0        </td><td>-0.25     </td><td> 0.00     </td><td>2.30000000</td><td>-0.6666667</td><td> 3.2666667</td><td> 2.933333 </td></tr>\n",
       "\t<tr><td>-20       </td><td>-11       </td><td>-3        </td><td>-2        </td><td> 0.41     </td><td> 0.08     </td><td>0.06666667</td><td> 0.2333333</td><td>-1.2000000</td><td>-0.900000 </td></tr>\n",
       "\t<tr><td>  0       </td><td>  1       </td><td>-2        </td><td>-4        </td><td> 0.58     </td><td> 0.18     </td><td>2.03333333</td><td> 0.3666667</td><td> 1.7000000</td><td> 1.333333 </td></tr>\n",
       "</tbody>\n",
       "</table>\n"
      ],
      "text/latex": [
       "\\begin{tabular}{r|llllllllll}\n",
       " gonio plantární flexe P & gonio plantární flexe L & gonio dorsání flexe P & gonio dorsání flexe L & tloušťka plantární fascie (podélné) P & tloušťka plantární fascie (podélné) L & dynamometr plantární flexe P & dynamometr plantární flexe L & dynamometr dorsální flexe P & dynamometr dorsální flexe L\\\\\n",
       "\\hline\n",
       "\t   2        &   4        &  3         & -1         &  0.74      &  1.01      & 0.46666667 &  2.4333333 &  0.9000000 &  2.333333 \\\\\n",
       "\t   5        &   2        & -3         & -8         & -0.09      & -0.40      & 0.50000000 & -0.5000000 & -2.1000000 &  0.200000 \\\\\n",
       "\t   0        &  -4        & -3         &  1         & -0.25      & -0.34      & 1.93333333 &  2.8666667 &  0.6333333 &  3.866667 \\\\\n",
       "\t   0        &  -5        &  0         &  0         & -0.25      &  0.00      & 2.30000000 & -0.6666667 &  3.2666667 &  2.933333 \\\\\n",
       "\t -20        & -11        & -3         & -2         &  0.41      &  0.08      & 0.06666667 &  0.2333333 & -1.2000000 & -0.900000 \\\\\n",
       "\t   0        &   1        & -2         & -4         &  0.58      &  0.18      & 2.03333333 &  0.3666667 &  1.7000000 &  1.333333 \\\\\n",
       "\\end{tabular}\n"
      ],
      "text/markdown": [
       "\n",
       "| gonio plantární flexe P | gonio plantární flexe L | gonio dorsání flexe P | gonio dorsání flexe L | tloušťka plantární fascie (podélné) P | tloušťka plantární fascie (podélné) L | dynamometr plantární flexe P | dynamometr plantární flexe L | dynamometr dorsální flexe P | dynamometr dorsální flexe L |\n",
       "|---|---|---|---|---|---|---|---|---|---|\n",
       "|   2        |   4        |  3         | -1         |  0.74      |  1.01      | 0.46666667 |  2.4333333 |  0.9000000 |  2.333333  |\n",
       "|   5        |   2        | -3         | -8         | -0.09      | -0.40      | 0.50000000 | -0.5000000 | -2.1000000 |  0.200000  |\n",
       "|   0        |  -4        | -3         |  1         | -0.25      | -0.34      | 1.93333333 |  2.8666667 |  0.6333333 |  3.866667  |\n",
       "|   0        |  -5        |  0         |  0         | -0.25      |  0.00      | 2.30000000 | -0.6666667 |  3.2666667 |  2.933333  |\n",
       "| -20        | -11        | -3         | -2         |  0.41      |  0.08      | 0.06666667 |  0.2333333 | -1.2000000 | -0.900000  |\n",
       "|   0        |   1        | -2         | -4         |  0.58      |  0.18      | 2.03333333 |  0.3666667 |  1.7000000 |  1.333333  |\n",
       "\n"
      ],
      "text/plain": [
       "  gonio plantární flexe P gonio plantární flexe L gonio dorsání flexe P\n",
       "1   2                       4                      3                   \n",
       "2   5                       2                     -3                   \n",
       "3   0                      -4                     -3                   \n",
       "4   0                      -5                      0                   \n",
       "5 -20                     -11                     -3                   \n",
       "6   0                       1                     -2                   \n",
       "  gonio dorsání flexe L tloušťka plantární fascie (podélné) P\n",
       "1 -1                     0.74                                \n",
       "2 -8                    -0.09                                \n",
       "3  1                    -0.25                                \n",
       "4  0                    -0.25                                \n",
       "5 -2                     0.41                                \n",
       "6 -4                     0.58                                \n",
       "  tloušťka plantární fascie (podélné) L dynamometr plantární flexe P\n",
       "1  1.01                                 0.46666667                  \n",
       "2 -0.40                                 0.50000000                  \n",
       "3 -0.34                                 1.93333333                  \n",
       "4  0.00                                 2.30000000                  \n",
       "5  0.08                                 0.06666667                  \n",
       "6  0.18                                 2.03333333                  \n",
       "  dynamometr plantární flexe L dynamometr dorsální flexe P\n",
       "1  2.4333333                    0.9000000                 \n",
       "2 -0.5000000                   -2.1000000                 \n",
       "3  2.8666667                    0.6333333                 \n",
       "4 -0.6666667                    3.2666667                 \n",
       "5  0.2333333                   -1.2000000                 \n",
       "6  0.3666667                    1.7000000                 \n",
       "  dynamometr dorsální flexe L\n",
       "1  2.333333                  \n",
       "2  0.200000                  \n",
       "3  3.866667                  \n",
       "4  2.933333                  \n",
       "5 -0.900000                  \n",
       "6  1.333333                  "
      ]
     },
     "metadata": {},
     "output_type": "display_data"
    }
   ],
   "source": [
    "data_rozdil <- data_pred - data_po\n",
    "data_rozdil %>% head()"
   ]
  },
  {
   "cell_type": "code",
   "execution_count": 158,
   "id": "9a0c0365",
   "metadata": {},
   "outputs": [
    {
     "data": {
      "image/png": "[encoded data removed]",
      "text/plain": [
       "plot without title"
      ]
     },
     "metadata": {},
     "output_type": "display_data"
    },
    {
     "data": {
      "image/png": "[encoded data removed]",
      "text/plain": [
       "plot without title"
      ]
     },
     "metadata": {},
     "output_type": "display_data"
    },
    {
     "data": {
      "image/png": "[encoded data removed]",
      "text/plain": [
       "plot without title"
      ]
     },
     "metadata": {},
     "output_type": "display_data"
    },
    {
     "data": {
      "image/png": "[encoded data removed]",
      "text/plain": [
       "plot without title"
      ]
     },
     "metadata": {},
     "output_type": "display_data"
    },
    {
     "data": {
      "image/png": "[encoded data removed]",
      "text/plain": [
       "plot without title"
      ]
     },
     "metadata": {},
     "output_type": "display_data"
    },
    {
     "data": {
      "image/png": "[encoded data removed]",
      "text/plain": [
       "plot without title"
      ]
     },
     "metadata": {},
     "output_type": "display_data"
    },
    {
     "data": {
      "image/png": "[encoded data removed]",
      "text/plain": [
       "plot without title"
      ]
     },
     "metadata": {},
     "output_type": "display_data"
    },
    {
     "data": {
      "image/png": "[encoded data removed]",
      "text/plain": [
       "plot without title"
      ]
     },
     "metadata": {},
     "output_type": "display_data"
    },
    {
     "data": {
      "image/png": "[encoded data removed]",
      "text/plain": [
       "plot without title"
      ]
     },
     "metadata": {},
     "output_type": "display_data"
    },
    {
     "data": {
      "image/png": "[encoded data removed]",
      "text/plain": [
       "plot without title"
      ]
     },
     "metadata": {},
     "output_type": "display_data"
    }
   ],
   "source": [
    "for (i in 1:ncol(data_rozdil)){\n",
    "    MASS::truehist(data_pred[,i], ylim = c(0,0.25))\n",
    "    lines(density(data_pred[,i]))\n",
    "}"
   ]
  },
  {
   "cell_type": "code",
   "execution_count": 215,
   "id": "a1d99f42",
   "metadata": {},
   "outputs": [
    {
     "data": {
      "image/png": "[encoded data removed]",
      "text/plain": [
       "Plot with title \"Histogram před a po terapii pro pravou dolní končetinu\""
      ]
     },
     "metadata": {},
     "output_type": "display_data"
    }
   ],
   "source": [
    "#breaks\n",
    "n <- 8\n",
    "posloupnost <- pretty(2:4, n = n, min.n = n) # Make a neat vector for the breakpoints\n",
    "\n",
    "#barvicky\n",
    "modra <- rgb(173,216,230, max = 255, alpha = 200, names = \"lt.blue\")\n",
    "ruzova <- rgb(255,192,203, max = 255, alpha = 150, names = \"lt.pink\")\n",
    "\n",
    "\n",
    "\n",
    "#histogramy\n",
    "hist_pred <- hist(data_pred[,5], breaks = posloupnost, plot = 0)\n",
    "hist_po <- hist(data_po[,5], breaks = posloupnost, plot = 0)\n",
    "plot(hist_pred, freq = TRUE, xlim = c(2,4), ylim = c(0,8),\n",
    "     main = \"Histogram před a po terapii pro pravou dolní končetinu\",\n",
    "     xlab = \"Tloušťka plantární fascie\", ylab = \"Frekvence\", col = modra)\n",
    "plot(hist_po, freq = TRUE, xlim = c(0,4), ylim = c(0,2), col = ruzova, add = TRUE)\n",
    "op <- par(cex = 1)\n",
    "legend(\"topright\", legend = c(\"Před terapií\",\" Po terapii\"), col = c(modra, ruzova), lwd = 10, par(cex=0.7), cex = 1.3)"
   ]
  },
  {
   "cell_type": "code",
   "execution_count": 238,
   "id": "846ad141",
   "metadata": {},
   "outputs": [
    {
     "data": {
      "image/png": "[encoded data removed]",
      "text/plain": [
       "Plot with title \"Histogram před a po terapii pro levou dolní končetinu\""
      ]
     },
     "metadata": {},
     "output_type": "display_data"
    }
   ],
   "source": [
    "#breaks\n",
    "n <- 19\n",
    "posloupnost <- pretty(2:5, n = n) # Make a neat vector for the breakpoints\n",
    "\n",
    "#barvicky\n",
    "modra <- rgb(173,216,230, max = 255, alpha = 200, names = \"lt.blue\")\n",
    "ruzova <- rgb(255,192,203, max = 255, alpha = 150, names = \"lt.pink\")\n",
    "\n",
    "\n",
    "\n",
    "#histogramy\n",
    "hist_pred <- hist(data_pred[,6], breaks = posloupnost, plot = 0)\n",
    "hist_po <- hist(data_po[,6], breaks = posloupnost, plot = 0)\n",
    "plot(hist_pred, freq = TRUE, xlim = c(2,4.5), ylim = c(0,8),\n",
    "     main = \"Histogram před a po terapii pro levou dolní končetinu\",\n",
    "     xlab = \"Tloušťka plantární fascie\", ylab = \"Frekvence\", col = modra)\n",
    "plot(hist_po, freq = TRUE, xlim = c(0,4), ylim = c(0,2), col = ruzova, add = TRUE)\n",
    "op <- par(cex = 1)\n",
    "legend(\"topright\", legend = c(\"Před terapií\",\" Po terapii\"), col = c(modra, ruzova), lwd = 10, par(cex=0.7), cex = 1.1)"
   ]
  },
  {
   "cell_type": "code",
   "execution_count": 239,
   "id": "99cc1e0e",
   "metadata": {},
   "outputs": [
    {
     "data": {
      "text/plain": [
       "   Min. 1st Qu.  Median    Mean 3rd Qu.    Max. \n",
       "  2.260   3.127   3.425   3.366   3.623   4.250 "
      ]
     },
     "metadata": {},
     "output_type": "display_data"
    },
    {
     "data": {
      "text/plain": [
       "   Min. 1st Qu.  Median    Mean 3rd Qu.    Max. \n",
       "  2.170   3.115   3.290   3.293   3.440   4.330 "
      ]
     },
     "metadata": {},
     "output_type": "display_data"
    },
    {
     "data": {
      "text/html": [
       "<ol class=list-inline>\n",
       "\t<li>2</li>\n",
       "\t<li>2.2</li>\n",
       "\t<li>2.4</li>\n",
       "\t<li>2.6</li>\n",
       "\t<li>2.8</li>\n",
       "\t<li>3</li>\n",
       "\t<li>3.2</li>\n",
       "\t<li>3.4</li>\n",
       "\t<li>3.6</li>\n",
       "\t<li>3.8</li>\n",
       "\t<li>4</li>\n",
       "\t<li>4.2</li>\n",
       "\t<li>4.4</li>\n",
       "\t<li>4.6</li>\n",
       "\t<li>4.8</li>\n",
       "\t<li>5</li>\n",
       "</ol>\n"
      ],
      "text/latex": [
       "\\begin{enumerate*}\n",
       "\\item 2\n",
       "\\item 2.2\n",
       "\\item 2.4\n",
       "\\item 2.6\n",
       "\\item 2.8\n",
       "\\item 3\n",
       "\\item 3.2\n",
       "\\item 3.4\n",
       "\\item 3.6\n",
       "\\item 3.8\n",
       "\\item 4\n",
       "\\item 4.2\n",
       "\\item 4.4\n",
       "\\item 4.6\n",
       "\\item 4.8\n",
       "\\item 5\n",
       "\\end{enumerate*}\n"
      ],
      "text/markdown": [
       "1. 2\n",
       "2. 2.2\n",
       "3. 2.4\n",
       "4. 2.6\n",
       "5. 2.8\n",
       "6. 3\n",
       "7. 3.2\n",
       "8. 3.4\n",
       "9. 3.6\n",
       "10. 3.8\n",
       "11. 4\n",
       "12. 4.2\n",
       "13. 4.4\n",
       "14. 4.6\n",
       "15. 4.8\n",
       "16. 5\n",
       "\n",
       "\n"
      ],
      "text/plain": [
       " [1] 2.0 2.2 2.4 2.6 2.8 3.0 3.2 3.4 3.6 3.8 4.0 4.2 4.4 4.6 4.8 5.0"
      ]
     },
     "metadata": {},
     "output_type": "display_data"
    }
   ],
   "source": [
    "summary(data_pred[,6])\n",
    "summary(data_po[,6])\n",
    "posloupnost"
   ]
  },
  {
   "cell_type": "code",
   "execution_count": 80,
   "id": "2530b0c9",
   "metadata": {},
   "outputs": [
    {
     "name": "stdout",
     "output_type": "stream",
     "text": [
      "Observations: 20\n",
      "Variables: 10\n",
      "$ `gonio plantární flexe P`               <dbl> 54, 55, 50, 50, 40, 50, 52,...\n",
      "$ `gonio plantární flexe L`               <dbl> 55, 60, 50, 45, 46, 53, 55,...\n",
      "$ `gonio dorsání flexe P`                 <dbl> 32, 30, 27, 30, 31, 30, 36,...\n",
      "$ `gonio dorsání flexe L`                 <dbl> 29, 25, 28, 30, 27, 25, 33,...\n",
      "$ `tloušťka plantární fascie (podélné) P` <dbl> 3.34, 2.92, 3.08, 2.67, 3.3...\n",
      "$ `tloušťka plantární fascie (podélné) L` <dbl> 3.76, 2.58, 3.42, 3.17, 2.7...\n",
      "$ `dynamometr plantární flexe P`          <dbl> 8.500000, 7.200000, 8.80000...\n",
      "$ `dynamometr plantární flexe L`          <dbl> 8.500000, 8.233333, 10.1000...\n",
      "$ `dynamometr dorsální flexe P`           <dbl> 9.833333, 8.133333, 9.53333...\n",
      "$ `dynamometr dorsální flexe L`           <dbl> 11.566667, 9.833333, 12.666...\n"
     ]
    }
   ],
   "source": [
    "data_pred %>% glimpse()"
   ]
  },
  {
   "cell_type": "code",
   "execution_count": 233,
   "id": "9ac8449f",
   "metadata": {},
   "outputs": [],
   "source": [
    "?pretty"
   ]
  }
 ],
 "metadata": {
  "kernelspec": {
   "display_name": "R",
   "language": "R",
   "name": "ir"
  },
  "language_info": {
   "codemirror_mode": "r",
   "file_extension": ".r",
   "mimetype": "text/x-r-source",
   "name": "R",
   "pygments_lexer": "r",
   "version": "3.6.1"
  }
 },
 "nbformat": 4,
 "nbformat_minor": 5
}
